{
 "cells": [
  {
   "cell_type": "code",
   "execution_count": 1,
   "metadata": {},
   "outputs": [],
   "source": [
    "import polars as pl\n",
    "import matplotlib.pyplot as plt\n",
    "import numpy as np\n",
    "import seaborn as sns\n",
    "import pandas as pd"
   ]
  },
  {
   "cell_type": "code",
   "execution_count": 2,
   "metadata": {},
   "outputs": [],
   "source": [
    "scores = pl.read_csv(\"score.csv\")\n",
    "df = scores.to_pandas()\n",
    "new_df = pd.DataFrame()"
   ]
  },
  {
   "cell_type": "code",
   "execution_count": null,
   "metadata": {},
   "outputs": [],
   "source": [
    "# Differences between the scores\n",
    "new_df[\"LLM-T1\"] = np.abs(df[\"LLM\"] - df[\"T1\"])\n",
    "new_df[\"LLM-T2\"] = np.abs(df[\"LLM\"] - df[\"T2\"])\n",
    "new_df[\"LLM-T3\"] = np.abs(df[\"LLM\"] - df[\"T3\"])\n",
    "new_df[\"T3-T1\"] = np.abs(df[\"T3\"] - df[\"T1\"])\n",
    "new_df[\"T3-T2\"] = np.abs(df[\"T3\"] - df[\"T2\"])\n",
    "new_df[\"T2-T1\"] = np.abs(df[\"T2\"] - df[\"T1\"])\n",
    "\n",
    "df_melt = new_df.melt(\n",
    "    var_name=\"Comparison\",   \n",
    "    value_name=\"Difference\"  \n",
    ")\n",
    "\n",
    "sns.set_theme(style=\"darkgrid\")\n",
    "my_pal = {\"LLM-T1\": \"#484D6D\", \n",
    "          \"LLM-T2\": \"#484D6D\", \n",
    "          \"LLM-T3\": \"#484D6D\", \n",
    "          \"T3-T1\": \"#E7A977\", \n",
    "          \"T3-T2\": \"#E7A977\", \n",
    "          \"T2-T1\": \"#E7A977\"\n",
    "          }\n",
    "sns.set(font_scale=2.6)\n",
    "\n",
    "# Visualize the differences in a barplot\n",
    "plt.figure(figsize=(20, 7))\n",
    "sns.barplot(data=df_melt, \n",
    "            x=\"Difference\", \n",
    "            y=\"Comparison\", \n",
    "            palette=my_pal,\n",
    "            errorbar=\"sd\",\n",
    "            capsize=0.1,\n",
    "            errwidth=1.5,\n",
    "            errcolor=\"black\")\n",
    "        \n",
    "plt.ylabel(\"\")\n",
    "plt.xlabel(\"Differenz\")\n",
    "plt.tight_layout()\n",
    "plt.show()\n",
    "\n"
   ]
  },
  {
   "cell_type": "code",
   "execution_count": null,
   "metadata": {},
   "outputs": [],
   "source": [
    "max_diff = 2 \n",
    "df_melt[\"Agreement\"] = 1 - (df_melt[\"Difference\"] / max_diff)\n",
    "df_melt[\"Agreement\"] = df_melt[\"Agreement\"] * 100  # in %\n",
    "\n",
    "\n",
    "trainer_llm_comps = [\"LLM-T1\", \"LLM-T2\", \"LLM-T3\"]\n",
    "trainer_trainer_comps = [\"T3-T1\", \"T3-T2\", \"T2-T1\"]\n",
    "\n",
    "df_tt = df_melt[df_melt[\"Comparison\"].isin(trainer_trainer_comps)]\n",
    "\n",
    "df_tllm = df_melt[df_melt[\"Comparison\"].isin(trainer_llm_comps)]\n",
    "\n",
    "\n",
    "mean_tt   = df_tt[\"Agreement\"].mean()\n",
    "mean_tllm = df_tllm[\"Agreement\"].mean()\n",
    "\n",
    "print(f\"Durchschnittliche Übereinstimmung Trainer–Trainer: {mean_tt:.2f}%\")\n",
    "print(f\"Durchschnittliche Übereinstimmung Trainer–LLM:     {mean_tllm:.2f}%\")\n",
    "\n"
   ]
  }
 ],
 "metadata": {
  "kernelspec": {
   "display_name": "Python 3",
   "language": "python",
   "name": "python3"
  },
  "language_info": {
   "codemirror_mode": {
    "name": "ipython",
    "version": 3
   },
   "file_extension": ".py",
   "mimetype": "text/x-python",
   "name": "python",
   "nbconvert_exporter": "python",
   "pygments_lexer": "ipython3",
   "version": "3.11.9"
  }
 },
 "nbformat": 4,
 "nbformat_minor": 2
}
